{
 "cells": [
  {
   "cell_type": "markdown",
   "metadata": {},
   "source": [
    "# Point Charge in Motion\n",
    "\n",
    "This notebook provides a visualisation of the electromagnetic radiation emitted by a point charge in motion. We will focus on the instantaneous power emitted into a solid angle element $d\\Omega$, omitting the radial and time dependence, which have been discussed in the lecture notes. The emitted power is given by the equation\n",
    "$$\n",
    "\\frac{dP}{d\\Omega}\n",
    "=\n",
    "\\frac{\\mu_0 q^2}{16 \\pi^2 c}\n",
    "\\frac{\\left(\\hat{r} \\times \\big( (\\hat{r}-\\vec{\\beta})  \\times \\vec{a} \\big)\\right)^2}\n",
    "     {( 1- \\vec{\\beta}\\cdot\\hat{r})^5}\n",
    "$$\n",
    "\n",
    "## Coordinates\n",
    "\n",
    "We notice that three vectors appear in this equation: the normalized velocity $\\vec{\\beta}$, the acceleration $\\vec{a}$ and a unit vector $\\hat{r}$ pointing from the charge to the observer. In the following, we choose our $x$ axis in the direction of the velocity $\\vec{\\beta}=\\beta\\hat{x}$ and the $y$ axis such that the acceleration is in the $x$-$y$ plane: $\\vec{a}=a_\\parallel\\hat{x}+a_\\perp\\hat{y}$. We denote the angle between velocity and acceleration with $\\alpha$. In these coordinates, the direction of the observer $\\hat{r}$ is completely determined by polar angle $\\theta$ and azimuth $\\phi$.\n",
    "\n",
    "You will be able to choose the speed $\\beta$, magnitude of the acceleration $a$ and the angle $\\alpha$ between these two vectors, and the notebook will display the intensity as a function of $\\theta$ and $\\phi$. The representation is the same as for the electric dipole, where it is explained in more detail."
   ]
  },
  {
   "cell_type": "code",
   "execution_count": null,
   "metadata": {},
   "outputs": [],
   "source": [
    "# We need to import some special 3D packages\n",
    "import numpy as np\n",
    "# import matplotlib.pyplot as plt\n",
    "# from mpl_toolkits.mplot3d import Axes3D\n",
    "# import matplotlib.tri as mtri\n",
    "# import matplotlib.cm as mcm\n",
    "# import ipywidgets as ipw\n",
    "import plotly.graph_objects as go\n",
    "from plotly.subplots import make_subplots\n",
    "\n",
    "%matplotlib notebook"
   ]
  },
  {
   "cell_type": "markdown",
   "metadata": {},
   "source": [
    "In the following, we set up a grid of coordinates where we want to evaluate the function. There should be no need to change anything here."
   ]
  },
  {
   "cell_type": "code",
   "execution_count": null,
   "metadata": {},
   "outputs": [],
   "source": [
    "# we set up a grid in theta,phi\n",
    "ntheta = 100\n",
    "nphi = 100\n",
    "theta, phi = np.mgrid[0:np.pi:ntheta*1j, 0:2*np.pi:nphi*1j]\n",
    "\n",
    "# lets find the point on a unit sphere for theta,phi\n",
    "x = np.sin(theta) * np.cos(phi)\n",
    "y = np.sin(theta) * np.sin(phi)\n",
    "z = np.cos(theta)"
   ]
  },
  {
   "cell_type": "markdown",
   "metadata": {},
   "source": [
    "This is the actual calculation of the radiated power. The velocity and acceleration are set here as well."
   ]
  },
  {
   "cell_type": "code",
   "execution_count": null,
   "metadata": {},
   "outputs": [],
   "source": [
    "beta = np.array([0.4, 0.0, 0.0])\n",
    "a    = np.array([1.0, 0.0])\n",
    "\n",
    "# now we calculate the intensity\n",
    "f = np.zeros_like(theta)\n",
    "\n",
    "for i in range(ntheta):\n",
    "    for j in range(nphi):\n",
    "        r = np.array([x[i,j],y[i,j],z[i,j]])\n",
    "        \n",
    "        triplecross = np.cross(r,np.cross(r-beta,a))\n",
    "        f[i,j] = np.dot(triplecross,triplecross) / (1-np.dot(beta,r))**5"
   ]
  },
  {
   "cell_type": "markdown",
   "metadata": {},
   "source": [
    "## Visualisation as 3D Polar Plot\n",
    "\n",
    "A more common visualisation of the radiation pattern is in the form of a 3D polar plot. As for the sphere, the variables $\\theta$ and $\\phi$ are used directly to indicate the direction, but in this case we show the radiation pattern not only as a heatmap on the surface, but also as the distance from the origin. A large distance from the origin means high intensity radiation.\n",
    "\n",
    "We can see even clearer that there is no radiation in the direction of the dipole."
   ]
  },
  {
   "cell_type": "code",
   "execution_count": null,
   "metadata": {},
   "outputs": [],
   "source": [
    "fig = make_subplots(rows=1, cols=1, specs=[[{'is_3d': True}]],\n",
    "                    subplot_titles=['Intensity of radiation emitted by the point charge'] )\n",
    "\n",
    "contour_xyz = { 'x': {'show': True, 'size': 1.}, 'y': {'show': True, 'size': 10.}, 'z': {'show': True, 'size': 100.}  }\n",
    "contour_none = { 'x': {'show': False}, 'y': {'show': False}, 'z': {'show': False}  }\n",
    "\n",
    "fig.add_trace(go.Surface(x=f*x, y=f*y, z=f*z, surfacecolor=f, contours=contour_none), 1, 1)\n",
    "fig.show()"
   ]
  },
  {
   "cell_type": "code",
   "execution_count": null,
   "metadata": {},
   "outputs": [],
   "source": []
  }
 ],
 "metadata": {
  "kernelspec": {
   "display_name": "Python 3",
   "language": "python",
   "name": "python3"
  },
  "language_info": {
   "codemirror_mode": {
    "name": "ipython",
    "version": 3
   },
   "file_extension": ".py",
   "mimetype": "text/x-python",
   "name": "python",
   "nbconvert_exporter": "python",
   "pygments_lexer": "ipython3",
   "version": "3.7.7"
  }
 },
 "nbformat": 4,
 "nbformat_minor": 4
}
