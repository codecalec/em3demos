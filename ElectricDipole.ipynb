{
 "cells": [
  {
   "cell_type": "markdown",
   "metadata": {},
   "source": [
    "# Radiation Pattern of an Electric Dipole\n",
    "\n",
    "We have derived an expression for the power that is radiated by an electric dipole into a solid angle element $d\\Omega$ in the form of electromagnetic waves. \n",
    "$$\n",
    "\\frac{d\\langle P \\rangle}{d\\Omega}\n",
    "= \\frac{\\mu_0 p_0^2 \\omega^4}{32 \\pi^2 c} \\sin^2\\theta\n",
    "$$\n",
    "This expression is independent of radius (or distance from the source), and we have eliminated the sinusoidal time dependence by averaging. What remains is the dependence on polar angle $\\theta$ and azimuth $\\phi$, which determine the position of the solid angle element $d\\Omega$.\n",
    "\n",
    "In this notebook, we will visualize radiation pattern of such an electric dipole, i.e. the dependence of $d\\langle P \\rangle/d\\Omega$ on $\\theta$ and $\\phi$."
   ]
  },
  {
   "cell_type": "code",
   "execution_count": null,
   "metadata": {},
   "outputs": [],
   "source": [
    "# We need to import some special 3D packages\n",
    "import numpy as np\n",
    "# import matplotlib.pyplot as plt\n",
    "# from mpl_toolkits.mplot3d import Axes3D\n",
    "# import matplotlib.tri as mtri\n",
    "# import matplotlib.cm as mcm\n",
    "# import ipywidgets as ipw\n",
    "import plotly.graph_objects as go\n",
    "from plotly.subplots import make_subplots\n",
    "\n",
    "%matplotlib notebook"
   ]
  },
  {
   "cell_type": "code",
   "execution_count": null,
   "metadata": {},
   "outputs": [],
   "source": [
    "theta, phi = np.mgrid[0:2*np.pi:100j, 0:1*np.pi:100j]\n",
    "\n",
    "x = np.sin(theta) * np.cos(phi)\n",
    "y = np.sin(theta) * np.sin(phi)\n",
    "z = np.cos(theta)\n",
    "\n",
    "f = np.sin(theta)**2"
   ]
  },
  {
   "cell_type": "markdown",
   "metadata": {},
   "source": [
    "## Visualisation on the surface of a sphere\n",
    "\n",
    "Our first visualization is a heatmap of the radiation pattern on the surface of a sphere. The axis of the electic dipole points in $z$ direction.\n",
    "\n",
    "The radiation pattern $d\\langle P \\rangle/d\\Omega$ is represented by the color coding on a sphere. The highest intensity corresponds to yellow, around the 'equator', and the lowest intensity is blue, found around the 'poles'. We see no radiation is emitted in the direction of the dipole axis, and the radiation is maximal perpendicular to it."
   ]
  },
  {
   "cell_type": "code",
   "execution_count": null,
   "metadata": {},
   "outputs": [],
   "source": [
    "fig = make_subplots(rows=1, cols=1, specs=[[{'is_3d': True}]],\n",
    "                    subplot_titles=['Intensity of electric dipole radiation'] )\n",
    "\n",
    "fig.add_trace(go.Surface(x=x, y=y, z=z, surfacecolor=f), 1, 1)\n",
    "fig.update_layout(title_text=\"Ring cyclide\")\n",
    "fig.show()"
   ]
  },
  {
   "cell_type": "markdown",
   "metadata": {},
   "source": [
    "## Visualisation as 3D Polar Plot\n",
    "\n",
    "A more common visualisation of the radiation pattern is in the form of a 3D polar plot. As for the sphere, the variables $\\theta$ and $\\phi$ are used directly to indicate the direction, but in this case we show the radiation pattern not only as a heatmap on the surface, but also as the distance from the origin. A large distance from the origin means high intensity radiation.\n",
    "\n",
    "We can see even clearer that there is no radiation in the direction of the dipole."
   ]
  },
  {
   "cell_type": "code",
   "execution_count": null,
   "metadata": {},
   "outputs": [],
   "source": [
    "fig = make_subplots(rows=1, cols=1, specs=[[{'is_3d': True}]],\n",
    "                    subplot_titles=['Intensity of electric dipole radiation'] )\n",
    "\n",
    "fig.add_trace(go.Surface(x=f*x, y=f*y, z=f*z, surfacecolor=f), 1, 1)\n",
    "fig.show()"
   ]
  },
  {
   "cell_type": "markdown",
   "metadata": {},
   "source": [
    "The same information can be conveyed without color - the intensity is now encoded only in the distance from the origin for a solid angle that is specified by $\\theta$ and $\\phi$."
   ]
  },
  {
   "cell_type": "code",
   "execution_count": null,
   "metadata": {},
   "outputs": [],
   "source": [
    "fig = make_subplots(rows=1, cols=1, specs=[[{'is_3d': True}]],\n",
    "                    subplot_titles=['Intensity of electric dipole radiation'] )\n",
    "\n",
    "contour_xyz = { 'x': {'show': True, 'size': 1.}, 'y': {'show': True, 'size': 10.}, 'z': {'show': True, 'size': 100.}  }\n",
    "color_gray = [[0, 'rgb(150,150,155)'], [1, 'rgb(150,150,155)']]\n",
    "\n",
    "fig.add_trace(go.Surface(x=f*x, y=f*y, z=f*z, colorscale=color_gray, contours=contour_xyz), 1, 1)\n",
    "fig.show()"
   ]
  },
  {
   "cell_type": "markdown",
   "metadata": {},
   "source": [
    "Because we have rotational symmetry, we can reduce this image to a polar plot in 2 dimensions. \n",
    "\n",
    "Note that this radiation pattern is usually shown (e.g. in the lecture notes) with the dipole pointing upwards, while this polar plot measures $\\theta$ from the $x$ axis, such that the "
   ]
  },
  {
   "cell_type": "code",
   "execution_count": null,
   "metadata": {},
   "outputs": [],
   "source": [
    "intensity = np.sin(np.linspace(0,2*np.pi,100))**2\n",
    "\n",
    "fig = go.Figure()\n",
    "fig.add_trace(go.Scatterpolar(r = intensity, mode = 'lines'))\n",
    "fig.show()"
   ]
  },
  {
   "cell_type": "code",
   "execution_count": null,
   "metadata": {},
   "outputs": [],
   "source": []
  }
 ],
 "metadata": {
  "kernelspec": {
   "display_name": "Python 3",
   "language": "python",
   "name": "python3"
  },
  "language_info": {
   "codemirror_mode": {
    "name": "ipython",
    "version": 3
   },
   "file_extension": ".py",
   "mimetype": "text/x-python",
   "name": "python",
   "nbconvert_exporter": "python",
   "pygments_lexer": "ipython3",
   "version": "3.7.7"
  }
 },
 "nbformat": 4,
 "nbformat_minor": 4
}
